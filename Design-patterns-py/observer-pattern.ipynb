{
 "cells": [
  {
   "cell_type": "markdown",
   "metadata": {},
   "source": [
    "# Observer Pattern"
   ]
  },
  {
   "cell_type": "code",
   "execution_count": 10,
   "metadata": {},
   "outputs": [],
   "source": [
    "from abc import ABC, abstractmethod\n",
    "class Subject(ABC): #Subject\n",
    "    @abstractmethod\n",
    "    def register_observer(self,observer):\n",
    "        pass\n",
    "\n",
    "    @abstractmethod\n",
    "    def remove_observer(self,observer):\n",
    "        pass\n",
    "\n",
    "    @abstractmethod\n",
    "    def notify_observers(self):\n",
    "        pass"
   ]
  },
  {
   "cell_type": "code",
   "execution_count": 11,
   "metadata": {},
   "outputs": [],
   "source": [
    "class Observer(ABC): #Observer\n",
    "    @abstractmethod\n",
    "    def update(self,temperature: float,humidity: float,pressure: float):\n",
    "        pass"
   ]
  },
  {
   "cell_type": "code",
   "execution_count": 12,
   "metadata": {},
   "outputs": [],
   "source": [
    "class WeatherData(Subject): #ConcreteSubject\n",
    "    def __init__(self):\n",
    "        self.observers: list[Observer] = []\n",
    "        self.temperature: float = 0.0\n",
    "        self.humidity: float = 0.0\n",
    "        self.pressure: float = 0.0\n",
    "    \n",
    "    def register_observer(self, observer: Observer):\n",
    "        self.observers.append(observer)\n",
    "\n",
    "    def remove_observer(self, observer: Observer):\n",
    "        self.observers.remove(observer)\n",
    "\n",
    "    def notify_observers(self):\n",
    "        for observer in self.observers:\n",
    "            observer.update(self.temperature, self.humidity, self.pressure)\n",
    "\n",
    "    def set_measurements(self, temperature, humidity, pressure):\n",
    "        self.temperature = temperature\n",
    "        self.humidity = humidity\n",
    "        self.pressure = pressure\n",
    "        self.notify_observers()"
   ]
  },
  {
   "cell_type": "code",
   "execution_count": 13,
   "metadata": {},
   "outputs": [],
   "source": [
    "class CurrentConditionsDisplay(Observer): #ConcreteObserver\n",
    "    def update(self, temperature, humidity, pressure):\n",
    "        print(f\"Current conditions: {temperature}°C, {humidity}% humidity\")\n",
    "\n",
    "class StatisticsDisplay(Observer): #ConcreteObserver\n",
    "    def update(self, temperature, humidity, pressure):\n",
    "        print(f\"Statistics: {temperature}°C, {humidity}% humidity\")\n",
    "\n",
    "class ForecastDisplay(Observer): #ConcreteObserver\n",
    "    def update(self, temperature, humidity, pressure):\n",
    "        print(f\"Forecast: {temperature}°C, {humidity}% humidity\")"
   ]
  },
  {
   "cell_type": "code",
   "execution_count": null,
   "metadata": {},
   "outputs": [
    {
     "name": "stdout",
     "output_type": "stream",
     "text": [
      "Current conditions: 25.0°C, 65.0% humidity\n",
      "Statistics: 25.0°C, 65.0% humidity\n",
      "Forecast: 25.0°C, 65.0% humidity\n",
      "---------------------------------\n",
      "Current conditions: 26.0°C, 70.0% humidity\n",
      "Forecast: 26.0°C, 70.0% humidity\n",
      "---------------------------------\n",
      "Current conditions: 27.0°C, 72.0% humidity\n",
      "---------------------------------\n"
     ]
    }
   ],
   "source": [
    "if __name__ == \"__main__\": #Client\n",
    "    weather_data = WeatherData()\n",
    "    current_display = CurrentConditionsDisplay()\n",
    "    statistics_display = StatisticsDisplay()\n",
    "    forecast_display = ForecastDisplay()\n",
    "    weather_data.register_observer(current_display)\n",
    "    weather_data.register_observer(statistics_display)\n",
    "    weather_data.register_observer(forecast_display)\n",
    "    weather_data.set_measurements(25.0, 65.0, 1013.0)\n",
    "    print('---------------------------------')\n",
    "    weather_data.remove_observer(statistics_display)\n",
    "    weather_data.set_measurements(26.0, 70.0, 1012.0)\n",
    "    print('---------------------------------')\n",
    "    weather_data.remove_observer(forecast_display)\n",
    "    weather_data.set_measurements(27.0, 72.0, 1014.0)\n",
    "    print('---------------------------------')"
   ]
  }
 ],
 "metadata": {
  "kernelspec": {
   "display_name": ".venv",
   "language": "python",
   "name": "python3"
  },
  "language_info": {
   "codemirror_mode": {
    "name": "ipython",
    "version": 3
   },
   "file_extension": ".py",
   "mimetype": "text/x-python",
   "name": "python",
   "nbconvert_exporter": "python",
   "pygments_lexer": "ipython3",
   "version": "3.13.1"
  }
 },
 "nbformat": 4,
 "nbformat_minor": 2
}
