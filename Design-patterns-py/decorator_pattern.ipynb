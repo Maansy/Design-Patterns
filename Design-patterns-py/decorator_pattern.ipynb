{
 "cells": [
  {
   "cell_type": "markdown",
   "metadata": {},
   "source": [
    "# Decorator Pattern"
   ]
  },
  {
   "cell_type": "code",
   "execution_count": 17,
   "metadata": {},
   "outputs": [],
   "source": [
    "from abc import ABC, abstractmethod\n",
    "\n",
    "class Beverage(ABC): # Component Interface\n",
    "    @abstractmethod\n",
    "    def get_description(self) -> str:\n",
    "        pass\n",
    "\n",
    "    @abstractmethod\n",
    "    def cost(self) -> float:\n",
    "        pass\n",
    "\n",
    "class Coffee(Beverage): # Concrete Component\n",
    "    def get_description(self) -> str:\n",
    "        return \"Coffee\"\n",
    "    \n",
    "    def cost(self) -> float:\n",
    "        return 0.9\n",
    "\n",
    "class Mocha(Beverage): \n",
    "    def get_description(self) -> str:\n",
    "        return \"Mocha\"\n",
    "\n",
    "    def cost(self) -> float:\n",
    "        return 1.2\n",
    "    \n"
   ]
  },
  {
   "cell_type": "code",
   "execution_count": 18,
   "metadata": {},
   "outputs": [],
   "source": [
    "class BeverageDecorator(Beverage): # Decorator Interface\n",
    "    def __init__(self, beverage: Beverage):\n",
    "        self.beverage = beverage\n",
    "\n",
    "    @abstractmethod\n",
    "    def get_description(self):\n",
    "        pass\n",
    "\n",
    "    def cost(self):\n",
    "        pass\n",
    "\n",
    "class Sugar(BeverageDecorator): # Concrete Decorator\n",
    "\n",
    "    def get_description(self):\n",
    "        return self.beverage.get_description() + \" With Sugar\"\n",
    "    \n",
    "    def cost(self):\n",
    "        return round(self.beverage.cost() + 0.22,2)\n",
    "        \n",
    "\n",
    "class Milk(BeverageDecorator):\n",
    "\n",
    "    def get_description(self):\n",
    "        return self.beverage.get_description() + \" With Milk\"\n",
    "    \n",
    "    def cost(self):\n",
    "        return self.beverage.cost() + 0.20"
   ]
  },
  {
   "cell_type": "code",
   "execution_count": 19,
   "metadata": {},
   "outputs": [
    {
     "name": "stdout",
     "output_type": "stream",
     "text": [
      "Description: Coffee With Milk\n",
      "Price: 1.1\n",
      "Description: Mocha With Milk\n",
      "Price: 1.4\n",
      "Description: Mocha With Milk With Sugar\n",
      "Price: 1.62\n"
     ]
    }
   ],
   "source": [
    "if __name__ == \"__main__\":\n",
    "    coffee = Coffee()\n",
    "    coffee_with_milk = Milk(coffee)\n",
    "    print(f\"Description: {coffee_with_milk.get_description()}\")\n",
    "    print(f\"Price: {coffee_with_milk.cost()}\")\n",
    "    mocha = Mocha()\n",
    "    mocha_with_milk = Milk(mocha)\n",
    "    print(f\"Description: {mocha_with_milk.get_description()}\")\n",
    "    print(f\"Price: {mocha_with_milk.cost()}\")\n",
    "    mocha_with_milk_and_sugar = Sugar(Milk(mocha))\n",
    "    print(f\"Description: {mocha_with_milk_and_sugar.get_description()}\")\n",
    "    print(f\"Price: {mocha_with_milk_and_sugar.cost()}\")"
   ]
  },
  {
   "cell_type": "code",
   "execution_count": null,
   "metadata": {},
   "outputs": [],
   "source": []
  }
 ],
 "metadata": {
  "kernelspec": {
   "display_name": ".venv",
   "language": "python",
   "name": "python3"
  },
  "language_info": {
   "codemirror_mode": {
    "name": "ipython",
    "version": 3
   },
   "file_extension": ".py",
   "mimetype": "text/x-python",
   "name": "python",
   "nbconvert_exporter": "python",
   "pygments_lexer": "ipython3",
   "version": "3.13.1"
  }
 },
 "nbformat": 4,
 "nbformat_minor": 2
}
