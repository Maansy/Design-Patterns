{
 "cells": [
  {
   "cell_type": "markdown",
   "metadata": {},
   "source": [
    "# Strategy Pattern in Python"
   ]
  },
  {
   "cell_type": "code",
   "execution_count": 8,
   "metadata": {},
   "outputs": [],
   "source": [
    "from abc import ABC, abstractmethod\n",
    "from typing import List, Tuple\n",
    "\n",
    "# Duck Example\n",
    "class FlyBehavior(ABC):\n",
    "    @abstractmethod\n",
    "    def fly(self):\n",
    "        pass\n",
    "\n",
    "class FlyWithWings(FlyBehavior):\n",
    "    def fly(self):\n",
    "        print(\"I'm flying with wings!\")\n",
    "\n",
    "class FlyNoWay(FlyBehavior):\n",
    "    def fly(self):\n",
    "        print(\"I can't fly!\")"
   ]
  },
  {
   "cell_type": "code",
   "execution_count": 9,
   "metadata": {},
   "outputs": [],
   "source": [
    "class QuackBehavior(ABC):\n",
    "    @abstractmethod\n",
    "    def quack(self):\n",
    "        pass\n",
    "\n",
    "class Quack(QuackBehavior):\n",
    "    def quack(self):\n",
    "        print(\"Quack!\")\n",
    "\n",
    "class Squeak(QuackBehavior):\n",
    "    def quack(self):\n",
    "        print(\"Squeak!\")"
   ]
  },
  {
   "cell_type": "code",
   "execution_count": 12,
   "metadata": {},
   "outputs": [],
   "source": [
    "class Duck(ABC):\n",
    "    def __init__(self, fly_behavior: FlyBehavior, quack_behavior: QuackBehavior):\n",
    "        self.fly_behavior = fly_behavior\n",
    "        self.quack_behavior = quack_behavior\n",
    "\n",
    "    def perform_fly(self) -> None:\n",
    "        self.fly_behavior.fly()\n",
    "    \n",
    "    def perform_quack(self) -> None:\n",
    "        self.quack_behavior.quack()\n",
    "\n",
    "    def set_fly_behavior(self, fly_behavior: FlyBehavior) -> None:\n",
    "        self.fly_behavior = fly_behavior\n",
    "\n",
    "    def set_quack_behavior(self, quack_behavior: QuackBehavior) -> None:\n",
    "        self.quack_behavior = quack_behavior\n",
    "\n",
    "class MallardDuck(Duck):\n",
    "    def __init__(self):\n",
    "        super().__init__(FlyWithWings(), Quack())\n",
    "\n",
    "class RubberDuck(Duck):\n",
    "    def __init__(self):\n",
    "        super().__init__(FlyNoWay(), Squeak())"
   ]
  },
  {
   "cell_type": "code",
   "execution_count": 13,
   "metadata": {},
   "outputs": [
    {
     "name": "stdout",
     "output_type": "stream",
     "text": [
      "Mallard:\n",
      "I'm flying with wings!\n",
      "Quack!\n",
      "Rubber:\n",
      "I can't fly!\n",
      "Squeak!\n",
      "I'm flying with wings!\n"
     ]
    }
   ],
   "source": [
    "mallard = MallardDuck()\n",
    "rubber = RubberDuck()\n",
    "print(\"Mallard:\")\n",
    "mallard.perform_fly()\n",
    "mallard.perform_quack()\n",
    "print(\"Rubber:\")\n",
    "rubber.perform_fly()\n",
    "rubber.perform_quack()\n",
    "rubber.set_fly_behavior(FlyWithWings())\n",
    "rubber.perform_fly()"
   ]
  }
 ],
 "metadata": {
  "kernelspec": {
   "display_name": ".venv",
   "language": "python",
   "name": "python3"
  },
  "language_info": {
   "codemirror_mode": {
    "name": "ipython",
    "version": 3
   },
   "file_extension": ".py",
   "mimetype": "text/x-python",
   "name": "python",
   "nbconvert_exporter": "python",
   "pygments_lexer": "ipython3",
   "version": "3.13.1"
  }
 },
 "nbformat": 4,
 "nbformat_minor": 2
}
